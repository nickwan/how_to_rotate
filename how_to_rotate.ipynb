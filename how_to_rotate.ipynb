{
 "cells": [
  {
   "cell_type": "code",
   "execution_count": 1,
   "metadata": {
    "collapsed": true
   },
   "outputs": [],
   "source": [
    "import cairo\n",
    "import math\n",
    "import random\n",
    "from IPython.display import display, Image"
   ]
  },
  {
   "cell_type": "code",
   "execution_count": 2,
   "metadata": {
    "collapsed": true
   },
   "outputs": [],
   "source": [
    "def show_img(file):\n",
    "    display(Image(filename=file))"
   ]
  },
  {
   "cell_type": "code",
   "execution_count": 3,
   "metadata": {
    "collapsed": false
   },
   "outputs": [
    {
     "data": {
      "image/png": "[encoded data removed]",
      "text/plain": [
       "<IPython.core.display.Image object>"
      ]
     },
     "metadata": {},
     "output_type": "display_data"
    }
   ],
   "source": [
    "WIDTH = 200  \n",
    "HEIGHT = 200  \n",
    "top_left_x = 50  \n",
    "top_left_y = 50  \n",
    "side_length = 100\n",
    "\n",
    "# Set surface; set background white  \n",
    "surface = cairo.ImageSurface(cairo.FORMAT_ARGB32, WIDTH, HEIGHT)\n",
    "context = cairo.Context(surface)\n",
    "context.set_source_rgb(1, 1, 1)\n",
    "context.paint()  \n",
    "\n",
    "# Draw rectangle  \n",
    "context.set_source_rgb(0, 0, 0)\n",
    "context.rectangle(top_left_x, top_left_y, side_length, side_length)  \n",
    "context.stroke()  \n",
    "\n",
    "surface.write_to_png('rotate_example1.png')\n",
    "show_img('rotate_example1.png')"
   ]
  },
  {
   "cell_type": "code",
   "execution_count": 4,
   "metadata": {
    "collapsed": false
   },
   "outputs": [
    {
     "data": {
      "image/png": "[encoded data removed]",
      "text/plain": [
       "<IPython.core.display.Image object>"
      ]
     },
     "metadata": {},
     "output_type": "display_data"
    }
   ],
   "source": [
    "# Set rotation anchor point (in this example, image center)\n",
    "rotate_anchor_x = 100 \n",
    "rotate_anchor_y = 100 \n",
    "\n",
    "# Set surface; set background white  \n",
    "surface = cairo.ImageSurface(cairo.FORMAT_ARGB32, WIDTH, HEIGHT)\n",
    "context = cairo.Context(surface)\n",
    "context.set_source_rgb(1, 1, 1)\n",
    "context.paint()  \n",
    "\n",
    "# Save the current context, rotate context\n",
    "context.save()\n",
    "context.translate(rotate_anchor_x,rotate_anchor_y)\n",
    "context.rotate(45*(math.pi/180)) # needs radians \n",
    "context.translate(-rotate_anchor_x,-rotate_anchor_y)\n",
    "\n",
    "\n",
    "# Draw rectangle, restore to original context  \n",
    "context.set_source_rgb(0, 0, 0)\n",
    "context.rectangle(top_left_x, top_left_y, side_length, side_length)  \n",
    "context.stroke()  \n",
    "context.restore()\n",
    "\n",
    "surface.write_to_png('rotate_example2.png')\n",
    "show_img('rotate_example2.png')"
   ]
  }
 ],
 "metadata": {
  "kernelspec": {
   "display_name": "Python [conda root]",
   "language": "python",
   "name": "conda-root-py"
  },
  "language_info": {
   "codemirror_mode": {
    "name": "ipython",
    "version": 3
   },
   "file_extension": ".py",
   "mimetype": "text/x-python",
   "name": "python",
   "nbconvert_exporter": "python",
   "pygments_lexer": "ipython3",
   "version": "3.5.2"
  }
 },
 "nbformat": 4,
 "nbformat_minor": 1
}
